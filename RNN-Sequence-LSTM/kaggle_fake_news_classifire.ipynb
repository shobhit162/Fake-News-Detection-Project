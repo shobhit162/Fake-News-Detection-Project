{
  "nbformat": 4,
  "nbformat_minor": 0,
  "metadata": {
    "colab": {
      "name": "kaggle_fake_news_classifire.ipynb",
      "provenance": [],
      "private_outputs": true
    },
    "kernelspec": {
      "name": "python3",
      "display_name": "Python 3"
    },
    "accelerator": "GPU"
  },
  "cells": [
    {
      "cell_type": "code",
      "metadata": {
        "id": "W9Ssf38tQ_Q0"
      },
      "source": [
        "from google.colab import drive\n",
        "drive.mount('/content/drive')"
      ],
      "execution_count": null,
      "outputs": []
    },
    {
      "cell_type": "code",
      "metadata": {
        "id": "6CKhxVkpuKTX"
      },
      "source": [
        "%cd /content/drive/My Drive\n"
      ],
      "execution_count": null,
      "outputs": []
    },
    {
      "cell_type": "code",
      "metadata": {
        "id": "9Z8v9IkqNXE1"
      },
      "source": [
        "import pandas as pd\n",
        "import tensorflow as tf\n",
        "from tensorflow.keras.preprocessing.sequence import pad_sequences\n",
        "from tensorflow.keras.preprocessing.text import one_hot\n",
        "from tensorflow.keras.models import Sequential\n",
        "from tensorflow.keras.layers import LSTM , Embedding , Dense\n"
      ],
      "execution_count": null,
      "outputs": []
    },
    {
      "cell_type": "code",
      "metadata": {
        "id": "CYcPpWeAPZnr"
      },
      "source": [
        "df = pd.read_csv('train.csv')\n",
        "df.head()"
      ],
      "execution_count": null,
      "outputs": []
    },
    {
      "cell_type": "code",
      "metadata": {
        "id": "ORf2PqHKuPuo"
      },
      "source": [
        "df = df.dropna()"
      ],
      "execution_count": null,
      "outputs": []
    },
    {
      "cell_type": "code",
      "metadata": {
        "id": "QYNmaTwcutKL"
      },
      "source": [
        "X = df.drop('label' , axis =1)"
      ],
      "execution_count": null,
      "outputs": []
    },
    {
      "cell_type": "code",
      "metadata": {
        "id": "oy3fZtkIu1aM"
      },
      "source": [
        "y = df['label']\n",
        "X.shape"
      ],
      "execution_count": null,
      "outputs": []
    },
    {
      "cell_type": "code",
      "metadata": {
        "id": "M4ErqgbIvAYo"
      },
      "source": [
        "y.shape"
      ],
      "execution_count": null,
      "outputs": []
    },
    {
      "cell_type": "code",
      "metadata": {
        "id": "1wcxwdrjvXns"
      },
      "source": [
        "voc_size = 50000\n",
        "messages = X.copy()\n",
        "messages.reset_index(inplace = True)\n"
      ],
      "execution_count": null,
      "outputs": []
    },
    {
      "cell_type": "code",
      "metadata": {
        "id": "hPiyu_PYv9cO"
      },
      "source": [
        "import nltk\n",
        "import re\n",
        "from nltk.corpus import stopwords\n",
        "from nltk.stem.porter import PorterStemmer"
      ],
      "execution_count": null,
      "outputs": []
    },
    {
      "cell_type": "code",
      "metadata": {
        "id": "enX7ldhMyZfv"
      },
      "source": [
        "nltk.download('stopwords')"
      ],
      "execution_count": null,
      "outputs": []
    },
    {
      "cell_type": "code",
      "metadata": {
        "id": "dc1rIFEBv_LR"
      },
      "source": [
        "ps = PorterStemmer()\n",
        "corpus = []\n",
        "for i in range(0 , len(messages)):\n",
        "  print(i)\n",
        "  review = re.sub('[^a-zA-Z]', ' ', messages['title'][i])\n",
        "  review = review.lower()\n",
        "  review = review.split()\n",
        "  review = [ps.stem(word) for word in review if not word in stopwords.words('english')]\n",
        "  review = ' '.join(review)\n",
        "  corpus.append(review)"
      ],
      "execution_count": null,
      "outputs": []
    },
    {
      "cell_type": "code",
      "metadata": {
        "id": "cx7UMoJeyQ_7"
      },
      "source": [
        "onehot_rep = [one_hot(word, voc_size) for word in corpus]\n",
        "embedded_doc = pad_sequences(onehot_rep, padding = 'pre', maxlen = 15)"
      ],
      "execution_count": null,
      "outputs": []
    },
    {
      "cell_type": "code",
      "metadata": {
        "id": "_Zb-MJAg1AAE"
      },
      "source": [
        "features = 40\n",
        "model = Sequential()\n",
        "model.add(Embedding(voc_size , features , input_length = 15))\n",
        "model.add(LSTM(100))\n",
        "model.add(Dense(1 , activation = 'sigmoid'))\n",
        "model.compile(loss='binary_crossentropy' , optimizer = 'adam' ,metrics = ['accuracy'])\n",
        "model.summary()"
      ],
      "execution_count": null,
      "outputs": []
    },
    {
      "cell_type": "code",
      "metadata": {
        "id": "yL-rVaJl12vy"
      },
      "source": [
        "import numpy as np\n",
        "xf = np.array(embedded_doc)\n",
        "yf = np.array(y)\n"
      ],
      "execution_count": null,
      "outputs": []
    },
    {
      "cell_type": "code",
      "metadata": {
        "id": "YFgg8Ku487zD"
      },
      "source": [
        "xf.shape,yf.shape"
      ],
      "execution_count": null,
      "outputs": []
    },
    {
      "cell_type": "code",
      "metadata": {
        "id": "KeZPDq248-vs"
      },
      "source": [
        "from sklearn.model_selection import train_test_split"
      ],
      "execution_count": null,
      "outputs": []
    },
    {
      "cell_type": "code",
      "metadata": {
        "id": "oTk4LTID9M9k"
      },
      "source": [
        "X_train, X_val , Y_train , Y_val= train_test_split(xf , yf , test_size = 0.25 , random_state = 21)"
      ],
      "execution_count": null,
      "outputs": []
    },
    {
      "cell_type": "code",
      "metadata": {
        "id": "DnCg3G3u9dKF"
      },
      "source": [
        "model.fit(X_train, Y_train, validation_data=(X_val, Y_val), epochs = 10 , batch_size = 32, verbose = 1)"
      ],
      "execution_count": null,
      "outputs": []
    },
    {
      "cell_type": "code",
      "metadata": {
        "id": "7QeoWaO_90US"
      },
      "source": [
        "Y_pred = model.predict_classes(X_val)"
      ],
      "execution_count": null,
      "outputs": []
    },
    {
      "cell_type": "code",
      "metadata": {
        "id": "z34U59mA_qZX"
      },
      "source": [
        "from sklearn.metrics import confusion_matrix , accuracy_score"
      ],
      "execution_count": null,
      "outputs": []
    },
    {
      "cell_type": "code",
      "metadata": {
        "id": "MkKvGvAX_5XG"
      },
      "source": [
        "confusion_matrix(Y_val , Y_pred)\n"
      ],
      "execution_count": null,
      "outputs": []
    },
    {
      "cell_type": "code",
      "metadata": {
        "id": "bea1_V7fAJBA"
      },
      "source": [
        "accuracy_score(Y_val , Y_pred)"
      ],
      "execution_count": null,
      "outputs": []
    },
    {
      "cell_type": "code",
      "metadata": {
        "id": "7_NDCD8XARnt"
      },
      "source": [
        ""
      ],
      "execution_count": null,
      "outputs": []
    }
  ]
}