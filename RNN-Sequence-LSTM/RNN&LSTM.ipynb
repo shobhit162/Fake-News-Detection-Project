{
  "nbformat": 4,
  "nbformat_minor": 0,
  "metadata": {
    "colab": {
      "name": "RNN&LSTM.ipynb",
      "provenance": [],
      "private_outputs": true,
      "collapsed_sections": []
    },
    "kernelspec": {
      "name": "python3",
      "display_name": "Python 3"
    },
    "accelerator": "GPU"
  },
  "cells": [
    {
      "cell_type": "code",
      "metadata": {
        "id": "SFA0s1zq6iDX"
      },
      "source": [
        "from io import open\n",
        "import string, os, random, time, math\n",
        "import seaborn as sns\n",
        "import matplotlib.pyplot as plt\n",
        "import numpy as np\n",
        "from sklearn.model_selection import train_test_split\n",
        "import torch\n",
        "import torch.nn as nn\n",
        "import torch.optim as optim\n",
        "from IPython.display import clear_output\n",
        "import requests"
      ],
      "execution_count": null,
      "outputs": []
    },
    {
      "cell_type": "code",
      "metadata": {
        "id": "rbLtWU717h_C"
      },
      "source": [
        "r = requests.get(\"https://data.heatonresearch.com/data/t81-558/text/\"\\\n",
        "                 \"treasure_island.txt\")\n"
      ],
      "execution_count": null,
      "outputs": []
    },
    {
      "cell_type": "code",
      "metadata": {
        "id": "_UrIGsysDjAS"
      },
      "source": [
        "languages =[]\n",
        "data = []\n",
        "x =[]\n",
        "y = []\n",
        "with open('name2lang.txt' ,'r') as f:\n",
        "  for line in f:\n",
        "    line = line.split(',')\n",
        "    name = line[0].strip()\n",
        "    lang = line[1].strip()\n",
        "    if not lang in languages:\n",
        "      languages.append(lang)\n",
        "    x.append(name)\n",
        "    y.append(lang)\n",
        "    data.append((name , lang))\n",
        "\n",
        "  n_languages = len(languages)\n",
        "  print(languages)\n"
      ],
      "execution_count": null,
      "outputs": []
    },
    {
      "cell_type": "code",
      "metadata": {
        "id": "7IrycOxUJgUH"
      },
      "source": [
        "x_train , x_test , y_train , y_test = train_test_split(x , y , test_size =0.2 ,random_state = 0 , stratify = y)"
      ],
      "execution_count": null,
      "outputs": []
    },
    {
      "cell_type": "code",
      "metadata": {
        "id": "kUhYMG5GLPjp"
      },
      "source": [
        "print(x_train)"
      ],
      "execution_count": null,
      "outputs": []
    },
    {
      "cell_type": "code",
      "metadata": {
        "id": "heGy4F7DLTZC"
      },
      "source": [
        "print(len(x_train))"
      ],
      "execution_count": null,
      "outputs": []
    },
    {
      "cell_type": "code",
      "metadata": {
        "id": "onWDmishLWuO"
      },
      "source": [
        "all_letters = string.ascii_letters + \",.;'\"\n",
        "n_letters = len(all_letters)"
      ],
      "execution_count": null,
      "outputs": []
    },
    {
      "cell_type": "code",
      "metadata": {
        "id": "oBx57lJMM73f"
      },
      "source": [
        "def name_rep(name):\n",
        "  rep = torch.zeros(len(name) ,1, n_letters)\n",
        "  for index,letter in enumerate(name):\n",
        "    pos = all_letters.find(letter)\n",
        "    rep[index][0][pos] = 1\n",
        "  return rep"
      ],
      "execution_count": null,
      "outputs": []
    },
    {
      "cell_type": "code",
      "metadata": {
        "id": "MJHOuXI6N4uI"
      },
      "source": [
        "def lang_rep(lang):\n",
        "  return torch.tensor([languages.index(lang)] , dtype = torch.long)"
      ],
      "execution_count": null,
      "outputs": []
    },
    {
      "cell_type": "code",
      "metadata": {
        "id": "SrUu91nnOgg8"
      },
      "source": [
        "count = {}\n",
        "for l in languages:\n",
        "  count[l] = 0\n",
        "for d in data:\n",
        "  count[d[1]]+= 1"
      ],
      "execution_count": null,
      "outputs": []
    },
    {
      "cell_type": "code",
      "metadata": {
        "id": "3z5wxmKlx5xJ"
      },
      "source": [
        "plt_ = sns.barplot(list(count.keys()) , list(count.values()))\n",
        "plt_.set_xticklabels(plt_.get_xticklabels(), rotation = 90)\n",
        "plt.show()"
      ],
      "execution_count": null,
      "outputs": []
    },
    {
      "cell_type": "code",
      "metadata": {
        "id": "DJvpx4QZzCWM"
      },
      "source": [
        "class RNN(nn.Module):\n",
        "  def __init__(self, input_size, hidden_size, output_size):\n",
        "    super(RNN, self).__init__()\n",
        "    self.hidden_size = hidden_size\n",
        "    self.i2h = nn.Linear(input_size + hidden_size , hidden_size)\n",
        "    self.i2o = nn.Linear(input_size + hidden_size , output_size)\n",
        "    self.softmax = nn.LogSoftmax(dim = 1)\n",
        "\n",
        "  def forward(self , input_ , hidden):\n",
        "    combined = torch.cat((input_ , hidden) ,1)\n",
        "    hidden = self.i2h(combined)\n",
        "    output = self.i2o(combined)\n",
        "    output = self.softmax(output)\n",
        "    return output , hidden\n",
        "  \n",
        "  def init_hidden(self):\n",
        "    return torch.zeros(1,self.hidden_size)"
      ],
      "execution_count": null,
      "outputs": []
    },
    {
      "cell_type": "code",
      "metadata": {
        "id": "q8fYoWnE1wqt"
      },
      "source": [
        "n_hidden = 128\n",
        "net = RNN(n_letters , n_hidden, n_languages)"
      ],
      "execution_count": null,
      "outputs": []
    },
    {
      "cell_type": "code",
      "metadata": {
        "id": "H6CeICN16SDr"
      },
      "source": [
        "def infer(net , name):\n",
        "  net.eval()\n",
        "  name_oh = name_rep(name)\n",
        "  hidden = net.init_hidden()\n",
        "  for i in range(name_oh.size()[0]):\n",
        "    output , hidden = net(name_oh[i] , hidden)\n",
        "  return output\n",
        "                 \n",
        "\n"
      ],
      "execution_count": null,
      "outputs": []
    },
    {
      "cell_type": "code",
      "metadata": {
        "id": "93yqZvxrPiEB"
      },
      "source": [
        "output = infer(net , 'alex')\n",
        "index = torch.argmax(output)\n",
        "print(index)"
      ],
      "execution_count": null,
      "outputs": []
    },
    {
      "cell_type": "code",
      "metadata": {
        "id": "auxl1KVnQ6Bn"
      },
      "source": [
        "def dataloader(n_points,x_,y_):\n",
        "  to_ret =[]\n",
        "  for i in range(n_points):\n",
        "    index = np.random.randint(len(x_))\n",
        "    name , lang = x_[index],y_[index]\n",
        "    to_ret.append((name,lang , name_rep(name) , lang_rep(lang)))\n",
        "  return to_ret\n"
      ],
      "execution_count": null,
      "outputs": []
    },
    {
      "cell_type": "code",
      "metadata": {
        "id": "0mBTI37XVib1"
      },
      "source": [
        "def eval(net , n_points ,k , x_ , y_):\n",
        "  data_ = dataloader(n_points , x_ , y_)\n",
        "  correct = 0\n",
        "  for name , language, name_oh , lang_rep in data_:\n",
        "    output = infer(net , name)\n",
        "    val , indicies = output.topk(k)\n",
        "    if lang_rep in indicies:\n",
        "      correct += 1\n",
        "  accuracy = correct/n_points\n",
        "  return accuracy\n",
        "\n"
      ],
      "execution_count": null,
      "outputs": []
    },
    {
      "cell_type": "code",
      "metadata": {
        "id": "jyfgBOfeW_kc"
      },
      "source": [
        "def train(net , opt , los , n_points):\n",
        "  opt.zero_grad()\n",
        "  total_loss = 0\n",
        "  data_ = dataloader(n_points , x_train , y_train)\n",
        "  for name , language, name_oh , lang_rep in data_:\n",
        "    hidden = net.init_hidden()\n",
        "    for i in range(name_oh.size()[0]):\n",
        "      output , hidden = net(name_oh[i] , hidden)\n",
        "  loss = los(output , lang_rep)\n",
        "  loss.backward(retain_graph = True)\n",
        "  total_loss += loss\n",
        "  opt.step()\n",
        "  return total_loss/n_points\n"
      ],
      "execution_count": null,
      "outputs": []
    },
    {
      "cell_type": "code",
      "metadata": {
        "id": "-EK853_3aFta"
      },
      "source": [
        "los = nn.NLLLoss()\n",
        "opt = optim.SGD(net.parameters() , lr =0.01, momentum=0.97)"
      ],
      "execution_count": null,
      "outputs": []
    },
    {
      "cell_type": "code",
      "metadata": {
        "id": "3NQtSfkshC8G"
      },
      "source": [
        "def train_setup(net , lr=0.01, n_batches = 100 , batch_size = 10 , momentum = 0.9 , display_freq=5):\n",
        "  crit = nn.NLLLoss()\n",
        "  opt = optim.SGD(net.parameters(), lr = lr, momentum=momentum)\n",
        "  loss_arr = np.zeros(n_batches+1)  \n",
        "  for i in range(n_batches):\n",
        "    loss_arr[i+1] = (loss_arr[i]*i + train(net,opt, crit , batch_size))/(i+1)\n",
        "    if  i % display_freq == display_freq -1:\n",
        "      clear_output(wait = True)\n",
        "      print('iteration' , i , 'top-1', eval(net , len(x_test) , 1 , x_test , y_test) , 'top-2' ,eval(net , len(x_test) , 2 , x_test , y_test) )\n",
        "      plt.figure()\n",
        "      plt.plot(loss_arr[1:i],'-*')\n",
        "      plt.xlabel('iteration')\n",
        "      plt.ylabel('loss')\n",
        "      plt.show()\n",
        "      print('\\n\\n')"
      ],
      "execution_count": null,
      "outputs": []
    },
    {
      "cell_type": "code",
      "metadata": {
        "id": "flrZnC-Njx7k"
      },
      "source": [
        "n_hidden = 128\n",
        "net = RNN(n_letters , n_hidden, n_languages)\n",
        "train_setup(net , lr=0.005, n_batches=100 , batch_size = 256 , momentum = 0.96, display_freq = 5)\n"
      ],
      "execution_count": null,
      "outputs": []
    },
    {
      "cell_type": "code",
      "metadata": {
        "id": "bHvuMEDfhZyQ"
      },
      "source": [
        "class lstm(nn.Module):\n",
        "  def __init__(self, input_size , hidden_size , output_size):\n",
        "    super(lstm,self).__init__()\n",
        "    self.hidden_size = hidden_size\n",
        "    self.lstm_cell = nn.LSTM(input_size , hidden_size ,2)\n",
        "    self.h2o = nn.Linear(hidden_size , output_size)\n",
        "    self.softmax = nn.LogSoftmax(dim=2)\n",
        "  \n",
        "  def forward(self , input , hidden):\n",
        "    out , hidden = self.lstm_cell(input.view(1,1,-1), hidden)\n",
        "    output = self.h2o(hidden[0])\n",
        "    output = self.softmax(output)\n",
        "    return output.view(1,-1) , hidden\n",
        "\n",
        "  def init_hidden(self):\n",
        "    return (torch.zeros(2,1, self.hidden_size) , torch.zeros(2,1,self.hidden_size))\n"
      ],
      "execution_count": null,
      "outputs": []
    },
    {
      "cell_type": "code",
      "metadata": {
        "id": "tQEjYcnddDOx"
      },
      "source": [
        "n_hiddeen = 128\n",
        "net = lstm(n_letters , n_hidden , n_languages)\n",
        "train_setup(net , lr=0.005, n_batches=100 , batch_size = 256 , momentum = 0.96, display_freq = 5)"
      ],
      "execution_count": null,
      "outputs": []
    },
    {
      "cell_type": "code",
      "metadata": {
        "id": "hwg9Yr9pWvLT"
      },
      "source": [
        ""
      ],
      "execution_count": null,
      "outputs": []
    }
  ]
}